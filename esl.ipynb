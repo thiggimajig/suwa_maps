{
 "cells": [
  {
   "cell_type": "code",
   "execution_count": null,
   "metadata": {},
   "outputs": [],
   "source": []
  }
 ],
 "metadata": {
  "kernelspec": {
   "display_name": "Python 3.11.0 ('geo_env': venv)",
   "language": "python",
   "name": "python3"
  },
  "language_info": {
   "name": "python",
   "version": "3.11.0"
  },
  "orig_nbformat": 4,
  "vscode": {
   "interpreter": {
    "hash": "327c87811a25d96e8030a279c9ea42db02f963ac30f22db8c57aab34e0e8118d"
   }
  }
 },
 "nbformat": 4,
 "nbformat_minor": 2
}
